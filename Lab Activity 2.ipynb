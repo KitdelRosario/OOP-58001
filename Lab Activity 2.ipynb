{
  "nbformat": 4,
  "nbformat_minor": 0,
  "metadata": {
    "colab": {
      "provenance": [],
      "authorship_tag": "ABX9TyOvlUKFLMIFDUgnwTQnOyY2",
      "include_colab_link": true
    },
    "kernelspec": {
      "name": "python3",
      "display_name": "Python 3"
    },
    "language_info": {
      "name": "python"
    }
  },
  "cells": [
    {
      "cell_type": "markdown",
      "metadata": {
        "id": "view-in-github",
        "colab_type": "text"
      },
      "source": [
        "<a href=\"https://colab.research.google.com/github/KitdelRosario/OOP-58001/blob/main/Laboratory_2.ipynb\" target=\"_parent\"><img src=\"https://colab.research.google.com/assets/colab-badge.svg\" alt=\"Open In Colab\"/></a>"
      ]
    },
    {
      "cell_type": "code",
      "execution_count": 2,
      "metadata": {
        "colab": {
          "base_uri": "https://localhost:8080/"
        },
        "id": "RwSsWcTl6dpC",
        "outputId": "3087a382-c0cf-4fd0-a31c-4417a5b752be"
      },
      "outputs": [
        {
          "output_type": "stream",
          "name": "stdout",
          "text": [
            "Enter the Radius: 5\n",
            "Area of Circle:  78.53981633974483\n",
            "Perimeter of Circle:  31.41592653589793\n"
          ]
        }
      ],
      "source": [
        "class Circle:\n",
        "  def __init__(self,radius):\n",
        "   self.radius = radius\n",
        "   import math\n",
        "   self.pi = math.pi\n",
        "\n",
        "  def area(self):\n",
        "    return self.pi*self.radius**2\n",
        "\n",
        "  def perimeter(self):\n",
        "    return 2*self.pi*self.radius\n",
        "\n",
        "  def display(self):\n",
        "    print(\"Area of Circle: \",self.area())\n",
        "    print(\"Perimeter of Circle: \",self.perimeter())\n",
        "\n",
        "circle = Circle(float(input(\"Enter the Radius: \")))\n",
        "circle.display()\n"
      ]
    }
  ]
}
