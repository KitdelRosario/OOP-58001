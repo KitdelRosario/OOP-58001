{
  "nbformat": 4,
  "nbformat_minor": 0,
  "metadata": {
    "colab": {
      "provenance": [],
      "authorship_tag": "ABX9TyNa5orG2guoMvm8n/oQkkZG",
      "include_colab_link": true
    },
    "kernelspec": {
      "name": "python3",
      "display_name": "Python 3"
    },
    "language_info": {
      "name": "python"
    }
  },
  "cells": [
    {
      "cell_type": "markdown",
      "metadata": {
        "id": "view-in-github",
        "colab_type": "text"
      },
      "source": [
        "<a href=\"https://colab.research.google.com/github/KitdelRosario/OOP-58001/blob/main/Fundamentals_of_Python.ipynb\" target=\"_parent\"><img src=\"https://colab.research.google.com/assets/colab-badge.svg\" alt=\"Open In Colab\"/></a>"
      ]
    },
    {
      "cell_type": "markdown",
      "source": [
        "Indentation\n"
      ],
      "metadata": {
        "id": "sI0bVpgbX-vz"
      }
    },
    {
      "cell_type": "code",
      "execution_count": 1,
      "metadata": {
        "colab": {
          "base_uri": "https://localhost:8080/"
        },
        "id": "KVJCw60KX59E",
        "outputId": "85a68244-2b47-403f-84f2-d85ec903ba20"
      },
      "outputs": [
        {
          "output_type": "stream",
          "name": "stdout",
          "text": [
            "five is greater than 2\n"
          ]
        }
      ],
      "source": [
        "if 5>2:\n",
        "  print('five is greater than 2')"
      ]
    },
    {
      "cell_type": "markdown",
      "source": [
        "Python Comment"
      ],
      "metadata": {
        "id": "JRtK-oFbYEYe"
      }
    },
    {
      "cell_type": "code",
      "source": [
        "# This is a comment\n",
        "print('Hello world')"
      ],
      "metadata": {
        "colab": {
          "base_uri": "https://localhost:8080/"
        },
        "id": "_T2PeoC8YFsU",
        "outputId": "664936ca-b5d7-4efb-c440-1b6836cd4ac4"
      },
      "execution_count": 2,
      "outputs": [
        {
          "output_type": "stream",
          "name": "stdout",
          "text": [
            "Hello world\n"
          ]
        }
      ]
    },
    {
      "cell_type": "markdown",
      "source": [
        "Python Variables (Case sensitive - Python)"
      ],
      "metadata": {
        "id": "Kz7QYKOVYInc"
      }
    },
    {
      "cell_type": "code",
      "source": [
        "# Single variable with multiple values\n",
        "array = [1,2,3,4,5,6,7,8,9,10]\n",
        "print (array) # or print (array[0]) - if specific array\n",
        "# multiple values with Single variable\n",
        "a = b = c = 'Kit'\n",
        "print (a)\n",
        "print (b)\n",
        "print (c)"
      ],
      "metadata": {
        "colab": {
          "base_uri": "https://localhost:8080/"
        },
        "id": "t5e2o8wlYKQl",
        "outputId": "65b2a34b-a01f-4f27-af11-e4279b940376"
      },
      "execution_count": 4,
      "outputs": [
        {
          "output_type": "stream",
          "name": "stdout",
          "text": [
            "[1, 2, 3, 4, 5, 6, 7, 8, 9, 10]\n",
            "Kit\n",
            "Kit\n",
            "Kit\n"
          ]
        }
      ]
    },
    {
      "cell_type": "markdown",
      "source": [
        "Casting Python Code"
      ],
      "metadata": {
        "id": "JnJuTignYO77"
      }
    },
    {
      "cell_type": "code",
      "source": [
        "n = int(4)\n",
        "print (n)"
      ],
      "metadata": {
        "colab": {
          "base_uri": "https://localhost:8080/"
        },
        "id": "MD8FO_JvYQej",
        "outputId": "cfb37ccf-5ae5-4892-dba7-43c63bfd4499"
      },
      "execution_count": 5,
      "outputs": [
        {
          "output_type": "stream",
          "name": "stdout",
          "text": [
            "4\n"
          ]
        }
      ]
    },
    {
      "cell_type": "markdown",
      "source": [
        "Python Type Function"
      ],
      "metadata": {
        "id": "ErEYI_TTYTi7"
      }
    },
    {
      "cell_type": "code",
      "source": [
        "c = 'Normil'\n",
        "d = 5.6\n",
        "print (type(c))\n",
        "print (type(d))"
      ],
      "metadata": {
        "colab": {
          "base_uri": "https://localhost:8080/"
        },
        "id": "gIGoPiP0YVZi",
        "outputId": "151ecfd2-6c04-448d-a59a-f10a06b97a6c"
      },
      "execution_count": 6,
      "outputs": [
        {
          "output_type": "stream",
          "name": "stdout",
          "text": [
            "<class 'str'>\n",
            "<class 'float'>\n"
          ]
        }
      ]
    }
  ]
}