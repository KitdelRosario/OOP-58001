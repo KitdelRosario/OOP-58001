{
  "nbformat": 4,
  "nbformat_minor": 0,
  "metadata": {
    "colab": {
      "provenance": [],
      "authorship_tag": "ABX9TyPHyJZQiqD7uv5d+J1QcUo0",
      "include_colab_link": true
    },
    "kernelspec": {
      "name": "python3",
      "display_name": "Python 3"
    },
    "language_info": {
      "name": "python"
    }
  },
  "cells": [
    {
      "cell_type": "markdown",
      "metadata": {
        "id": "view-in-github",
        "colab_type": "text"
      },
      "source": [
        "<a href=\"https://colab.research.google.com/github/KitdelRosario/OOP-58001/blob/main/Hands_on_1.ipynb\" target=\"_parent\"><img src=\"https://colab.research.google.com/assets/colab-badge.svg\" alt=\"Open In Colab\"/></a>"
      ]
    },
    {
      "cell_type": "code",
      "execution_count": 27,
      "metadata": {
        "colab": {
          "base_uri": "https://localhost:8080/"
        },
        "id": "_TzMpDI4ZzLS",
        "outputId": "7bbb7804-66f9-46aa-ec05-7f9b4eef11ba"
      },
      "outputs": [
        {
          "output_type": "stream",
          "name": "stdout",
          "text": [
            "Name:  Student 1\n",
            "Prelims:  95\n",
            "Midterms:  89\n",
            "Finals:  78\n",
            "Average:  87.33333333333333\n",
            " \n",
            "Name:  Student 2\n",
            "Prelims:  51\n",
            "Midterms:  90\n",
            "Finals:  78\n",
            "Average:  73.0\n",
            " \n",
            "Name:  Student 3\n",
            "Prelims:  80\n",
            "Midterms:  79\n",
            "Finals:  68\n",
            "Average:  75.66666666666667\n",
            " \n",
            "Name:  Student 1\n",
            "Prelims:  95\n",
            "Midterms:  89\n",
            "Finals:  78\n",
            "Average:  87.33333333333333\n",
            " \n"
          ]
        }
      ],
      "source": [
        "class Person:\n",
        "  def __init__(self,std, pre, mid, fin):\n",
        "    self.__std = std\n",
        "    self.__pre = pre\n",
        "    self.__mid = mid\n",
        "    self.__fin = fin\n",
        "\n",
        "  def Grade(self):\n",
        "    return (self.__pre + self.__mid + self.__fin)/3\n",
        "\n",
        "  def display(self):\n",
        "    print(\"Name: \",self.__std)\n",
        "    print(\"Prelims: \",self.__pre)\n",
        "    print(\"Midterms: \",self.__mid)\n",
        "    print(\"Finals: \",self.__fin)\n",
        "    print(\"Average: \",self.Grade())\n",
        "    print(\" \")\n",
        "\n",
        "class Student1(Person):\n",
        "  pass\n",
        "class Student2(Person):\n",
        "  pass\n",
        "class Student3(Person):\n",
        "  pass\n",
        "\n",
        "std1 = Student1(\"Student 1\",95,89,78)\n",
        "std1.display()\n",
        "\n",
        "std2 = Student2(\"Student 2\",51,90,78)\n",
        "std2.display()\n",
        "\n",
        "std3 = Student3(\"Student 3\",80,79,68)\n",
        "std3.display()\n",
        "\n",
        "#mangling test (Double UnderScore)\n",
        "std1.std = \"kit\"\n",
        "std1.pre = 88\n",
        "std1.mid = 77\n",
        "std1.fin = 66\n",
        "std1.display()"
      ]
    }
  ]
}