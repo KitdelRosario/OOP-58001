{
  "nbformat": 4,
  "nbformat_minor": 0,
  "metadata": {
    "colab": {
      "provenance": [],
      "authorship_tag": "ABX9TyPWaCr5mbAcs+R8y6DvhMNe",
      "include_colab_link": true
    },
    "kernelspec": {
      "name": "python3",
      "display_name": "Python 3"
    },
    "language_info": {
      "name": "python"
    }
  },
  "cells": [
    {
      "cell_type": "markdown",
      "metadata": {
        "id": "view-in-github",
        "colab_type": "text"
      },
      "source": [
        "<a href=\"https://colab.research.google.com/github/KitdelRosario/OOP-58001/blob/main/Operations_and_Expressions.ipynb\" target=\"_parent\"><img src=\"https://colab.research.google.com/assets/colab-badge.svg\" alt=\"Open In Colab\"/></a>"
      ]
    },
    {
      "cell_type": "markdown",
      "source": [
        "Boolean Operators"
      ],
      "metadata": {
        "id": "wN_iViINZVSl"
      }
    },
    {
      "cell_type": "code",
      "execution_count": 1,
      "metadata": {
        "colab": {
          "base_uri": "https://localhost:8080/"
        },
        "id": "Ozk1kbBoYl9x",
        "outputId": "94b64c3e-9841-4b53-95c4-506c08076bb4"
      },
      "outputs": [
        {
          "output_type": "stream",
          "name": "stdout",
          "text": [
            "True\n",
            "False\n",
            "False\n"
          ]
        }
      ],
      "source": [
        "print(10>9)\n",
        "\n",
        "print(10 == 9)\n",
        "\n",
        "print(10<9)"
      ]
    },
    {
      "cell_type": "markdown",
      "source": [
        "Bool Function"
      ],
      "metadata": {
        "id": "Pe-ELcd_Ze64"
      }
    },
    {
      "cell_type": "code",
      "source": [
        "print(bool('Kit'))\n",
        "\n",
        "print(bool(1))\n",
        "\n",
        "print(bool(0))\n",
        "\n",
        "print(bool(None))\n",
        "\n",
        "print(bool(True))"
      ],
      "metadata": {
        "colab": {
          "base_uri": "https://localhost:8080/"
        },
        "id": "CM6HVZkLZgal",
        "outputId": "2567ae6e-59d9-46e8-ee16-4fac5a9f1b8b"
      },
      "execution_count": 2,
      "outputs": [
        {
          "output_type": "stream",
          "name": "stdout",
          "text": [
            "True\n",
            "True\n",
            "False\n",
            "False\n",
            "True\n"
          ]
        }
      ]
    },
    {
      "cell_type": "markdown",
      "source": [
        "Function"
      ],
      "metadata": {
        "id": "DnpdvY6QZlBo"
      }
    },
    {
      "cell_type": "code",
      "source": [
        "def Examplefunction():\n",
        " return True\n",
        "\n",
        "print(Examplefunction())"
      ],
      "metadata": {
        "colab": {
          "base_uri": "https://localhost:8080/"
        },
        "id": "elPWp84oZlcc",
        "outputId": "b6c4f0de-01c3-4893-db84-440ac302f57c"
      },
      "execution_count": 3,
      "outputs": [
        {
          "output_type": "stream",
          "name": "stdout",
          "text": [
            "True\n"
          ]
        }
      ]
    },
    {
      "cell_type": "markdown",
      "source": [
        "Function (if else Statement)"
      ],
      "metadata": {
        "id": "CWOteCoFZntv"
      }
    },
    {
      "cell_type": "code",
      "source": [
        "def Examplefunction():\n",
        " return True\n",
        "\n",
        "if Examplefunction(): \n",
        "   print('YES')\n",
        "else:\n",
        "   print('NO')\n",
        "\n",
        "\n",
        "# Alternate\n",
        "\n",
        "def Examplefunction():\n",
        " return False\n",
        "\n",
        "if Examplefunction(): \n",
        "   print('YES')\n",
        "else:\n",
        "   print('NO')"
      ],
      "metadata": {
        "colab": {
          "base_uri": "https://localhost:8080/"
        },
        "id": "xSlPrKsZZpAx",
        "outputId": "2de8fb10-0486-4905-826b-526a171e63c5"
      },
      "execution_count": 4,
      "outputs": [
        {
          "output_type": "stream",
          "name": "stdout",
          "text": [
            "YES\n",
            "NO\n"
          ]
        }
      ]
    },
    {
      "cell_type": "markdown",
      "source": [
        "Try"
      ],
      "metadata": {
        "id": "XdB5tPlsZssN"
      }
    },
    {
      "cell_type": "code",
      "source": [
        "print(10>9)\n",
        "\n",
        "a=6\n",
        "b=7\n",
        "\n",
        "print(a==b)\n",
        "print(a!=a)"
      ],
      "metadata": {
        "colab": {
          "base_uri": "https://localhost:8080/"
        },
        "id": "bMiiM2sIZueb",
        "outputId": "aab82ab6-2f22-4990-d902-5be5aa8a4b49"
      },
      "execution_count": 5,
      "outputs": [
        {
          "output_type": "stream",
          "name": "stdout",
          "text": [
            "True\n",
            "False\n",
            "False\n"
          ]
        }
      ]
    },
    {
      "cell_type": "markdown",
      "source": [
        "Math operations"
      ],
      "metadata": {
        "id": "krxoPGZSZxLX"
      }
    },
    {
      "cell_type": "code",
      "source": [
        "print(1+1)\n",
        "print(1-1)\n",
        "print(1*1)\n",
        "print(1/1)\n",
        "\n",
        "print(10%5) # Remainder will print\n",
        "print(10//5) # Whole number will print\n",
        "print(10**2) # Multiply itself to the number inputed"
      ],
      "metadata": {
        "colab": {
          "base_uri": "https://localhost:8080/"
        },
        "id": "ZWpxHEP1Zw5g",
        "outputId": "4d54149a-deee-407f-f89e-ee81d214238d"
      },
      "execution_count": 6,
      "outputs": [
        {
          "output_type": "stream",
          "name": "stdout",
          "text": [
            "2\n",
            "0\n",
            "1\n",
            "1.0\n",
            "0\n",
            "2\n",
            "100\n"
          ]
        }
      ]
    },
    {
      "cell_type": "markdown",
      "source": [
        "Bitwise Operators"
      ],
      "metadata": {
        "id": "tluYmBqzZ1M-"
      }
    },
    {
      "cell_type": "code",
      "source": [
        "a=60\n",
        "b=13\n",
        "\n",
        "a>>1"
      ],
      "metadata": {
        "colab": {
          "base_uri": "https://localhost:8080/"
        },
        "id": "R5huxZp8Z2Xy",
        "outputId": "1296f839-daf4-4da5-9f4d-e2341f982887"
      },
      "execution_count": 7,
      "outputs": [
        {
          "output_type": "execute_result",
          "data": {
            "text/plain": [
              "30"
            ]
          },
          "metadata": {},
          "execution_count": 7
        }
      ]
    },
    {
      "cell_type": "markdown",
      "source": [
        "Assignment Operators"
      ],
      "metadata": {
        "id": "TV2A0MLrZ4O2"
      }
    },
    {
      "cell_type": "code",
      "source": [
        "x=1\n",
        "\n",
        "x+=3 # Same as x=x+3\n",
        "\n",
        "print(x)\n",
        "\n",
        "x-=3 # Same as x=x-3\n",
        "\n",
        "print(x)\n",
        "\n",
        "x*=3 # Same as x=x*3\n",
        "\n",
        "print(x)\n",
        "\n",
        "x/=3 # Same as x=x/3\n",
        "\n",
        "print(x)\n",
        "\n",
        "x%=3 # Same as x=x%3\n",
        "\n",
        "print(x)"
      ],
      "metadata": {
        "colab": {
          "base_uri": "https://localhost:8080/"
        },
        "id": "cQK846CJZ5fO",
        "outputId": "d2c9cac0-5be3-456f-a100-b30cb186c26f"
      },
      "execution_count": 8,
      "outputs": [
        {
          "output_type": "stream",
          "name": "stdout",
          "text": [
            "4\n",
            "1\n",
            "3\n",
            "1.0\n",
            "1.0\n"
          ]
        }
      ]
    },
    {
      "cell_type": "markdown",
      "source": [
        "**Logical operators:**"
      ],
      "metadata": {
        "id": "fBYeH7nyZ7iP"
      }
    },
    {
      "cell_type": "markdown",
      "source": [
        "and or xor not"
      ],
      "metadata": {
        "id": "NZ_oEntRZ-3k"
      }
    },
    {
      "cell_type": "code",
      "source": [
        "a=True\n",
        "b=False\n",
        "\n",
        "not a # print(not a) \n",
        "a and b # print(a and b)"
      ],
      "metadata": {
        "id": "hoq7MYUiaBZu",
        "outputId": "cf1a4991-f67f-4a49-e5fa-71e6acbff5d1",
        "colab": {
          "base_uri": "https://localhost:8080/"
        }
      },
      "execution_count": 9,
      "outputs": [
        {
          "output_type": "execute_result",
          "data": {
            "text/plain": [
              "False"
            ]
          },
          "metadata": {},
          "execution_count": 9
        }
      ]
    },
    {
      "cell_type": "markdown",
      "source": [
        "identity operators"
      ],
      "metadata": {
        "id": "eQn9r0ynaDLP"
      }
    },
    {
      "cell_type": "code",
      "source": [
        "a=True\n",
        "b=False\n",
        "\n",
        "a is a # print(a is a)\n",
        "a is not b # print(a is not b)"
      ],
      "metadata": {
        "id": "poZP6SvYaE4c",
        "outputId": "ffd228c1-c8c9-4f07-97e9-2e5cc3e0f758",
        "colab": {
          "base_uri": "https://localhost:8080/"
        }
      },
      "execution_count": 10,
      "outputs": [
        {
          "output_type": "execute_result",
          "data": {
            "text/plain": [
              "True"
            ]
          },
          "metadata": {},
          "execution_count": 10
        }
      ]
    }
  ]
}