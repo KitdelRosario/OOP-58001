{
  "nbformat": 4,
  "nbformat_minor": 0,
  "metadata": {
    "colab": {
      "provenance": [],
      "authorship_tag": "ABX9TyNwkIXlpL5DRI60FR5QE+cO",
      "include_colab_link": true
    },
    "kernelspec": {
      "name": "python3",
      "display_name": "Python 3"
    },
    "language_info": {
      "name": "python"
    }
  },
  "cells": [
    {
      "cell_type": "markdown",
      "metadata": {
        "id": "view-in-github",
        "colab_type": "text"
      },
      "source": [
        "<a href=\"https://colab.research.google.com/github/KitdelRosario/OOP-58001/blob/main/List%2CTuples_and_Dictionaries.ipynb\" target=\"_parent\"><img src=\"https://colab.research.google.com/assets/colab-badge.svg\" alt=\"Open In Colab\"/></a>"
      ]
    },
    {
      "cell_type": "markdown",
      "source": [
        "Functions"
      ],
      "metadata": {
        "id": "nqs--xs-K_3E"
      }
    },
    {
      "cell_type": "code",
      "execution_count": 11,
      "metadata": {
        "colab": {
          "base_uri": "https://localhost:8080/"
        },
        "id": "j_rWhS9lK1OC",
        "outputId": "88b3df37-60df-4fac-970d-a95fdd7d3364"
      },
      "outputs": [
        {
          "output_type": "execute_result",
          "data": {
            "text/plain": [
              "50"
            ]
          },
          "metadata": {},
          "execution_count": 11
        }
      ],
      "source": [
        "class shapes:\n",
        "  def __init__(self,length,width):\n",
        "    self.length = length\n",
        "    self.width = width\n",
        "  def area(self):\n",
        "    return self.length * self.width\n",
        "\n",
        "rectangle = shapes(10,5)\n",
        "rectangle.area()"
      ]
    },
    {
      "cell_type": "code",
      "source": [
        "class shapes:\n",
        "  def __init__(self,side):\n",
        "    self.side = side\n",
        "  def areasq(self):\n",
        "    return self.side**2\n",
        "square = shapes(2)\n",
        "square.areasq()"
      ],
      "metadata": {
        "colab": {
          "base_uri": "https://localhost:8080/"
        },
        "id": "AoCM-KTCQJcU",
        "outputId": "be457b8e-a2b0-453e-a196-7cb8b2bc26bd"
      },
      "execution_count": 13,
      "outputs": [
        {
          "output_type": "execute_result",
          "data": {
            "text/plain": [
              "4"
            ]
          },
          "metadata": {},
          "execution_count": 13
        }
      ]
    },
    {
      "cell_type": "code",
      "source": [
        "pow(10,2)\n",
        "array = [\"apple\",\"banana\",\"orange\"]\n",
        "array.insert(0,\"cherry\")\n",
        "print(array)"
      ],
      "metadata": {
        "id": "zBvacDLPNRxC"
      },
      "execution_count": null,
      "outputs": []
    },
    {
      "cell_type": "code",
      "source": [
        "#create your own function that will show your fullname and age\n",
        "#Use Person as class name\n",
        "\n",
        "class Person:\n",
        "  def __init__(self,name,age):\n",
        "    self.name = name\n",
        "    self.age = age\n",
        "\n",
        "  def data(self):\n",
        "    return self.name + self.age\n",
        "\n",
        "info = Person(\"Kit Aldrich R. del Rosario \",\"19 Years Old\")\n",
        "info.data()"
      ],
      "metadata": {
        "colab": {
          "base_uri": "https://localhost:8080/",
          "height": 36
        },
        "id": "XtD9l6sfPNqr",
        "outputId": "ec8ae1fa-6c31-43a2-fc9d-ecde38e1da00"
      },
      "execution_count": 16,
      "outputs": [
        {
          "output_type": "execute_result",
          "data": {
            "text/plain": [
              "'Kit Aldrich R. del Rosario 19 Years Old'"
            ],
            "application/vnd.google.colaboratory.intrinsic+json": {
              "type": "string"
            }
          },
          "metadata": {},
          "execution_count": 16
        }
      ]
    },
    {
      "cell_type": "markdown",
      "source": [
        "List"
      ],
      "metadata": {
        "id": "bxUq4rwuUr7E"
      }
    },
    {
      "cell_type": "code",
      "source": [
        "pi= 3.14159\n",
        "varList = ['abc',1,'def',2]\n",
        "print(varList[0])\n",
        "\n",
        "varList.append('ghi')\n",
        "print(varList)\n",
        "varList.remove(2)\n",
        "print(varList)\n",
        "varList.insert(3,3)\n",
        "print(varList)"
      ],
      "metadata": {
        "colab": {
          "base_uri": "https://localhost:8080/"
        },
        "id": "ytvyoypgUyVc",
        "outputId": "6180cf90-8e3f-4cef-86b7-75165d672c44"
      },
      "execution_count": 20,
      "outputs": [
        {
          "output_type": "stream",
          "name": "stdout",
          "text": [
            "abc\n",
            "['abc', 1, 'def', 2, 'ghi']\n",
            "['abc', 1, 'def', 'ghi']\n",
            "['abc', 1, 'def', 3, 'ghi']\n"
          ]
        }
      ]
    },
    {
      "cell_type": "markdown",
      "source": [
        "Dictionaries"
      ],
      "metadata": {
        "id": "8MAqPayOWDo9"
      }
    },
    {
      "cell_type": "code",
      "source": [
        "students = {\n",
        "    1:\"ana\",\n",
        "    2:\"billy\",\n",
        "    3:\"maria\",\n",
        "    4:\"joy\"\n",
        "}\n",
        "print(students)"
      ],
      "metadata": {
        "colab": {
          "base_uri": "https://localhost:8080/"
        },
        "id": "Prepsxa7WFxl",
        "outputId": "8c95ac98-e8af-427c-9f07-fbfc2b05add7"
      },
      "execution_count": 21,
      "outputs": [
        {
          "output_type": "stream",
          "name": "stdout",
          "text": [
            "{1: 'ana', 2: 'billy', 3: 'maria', 4: 'joy'}\n"
          ]
        }
      ]
    }
  ]
}