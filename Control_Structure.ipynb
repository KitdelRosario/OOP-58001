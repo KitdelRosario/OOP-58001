{
  "nbformat": 4,
  "nbformat_minor": 0,
  "metadata": {
    "colab": {
      "provenance": [],
      "authorship_tag": "ABX9TyOINFo9O2Seq4AHsCKqFgv+",
      "include_colab_link": true
    },
    "kernelspec": {
      "name": "python3",
      "display_name": "Python 3"
    },
    "language_info": {
      "name": "python"
    }
  },
  "cells": [
    {
      "cell_type": "markdown",
      "metadata": {
        "id": "view-in-github",
        "colab_type": "text"
      },
      "source": [
        "<a href=\"https://colab.research.google.com/github/KitdelRosario/OOP-58001/blob/main/Control_Structure.ipynb\" target=\"_parent\"><img src=\"https://colab.research.google.com/assets/colab-badge.svg\" alt=\"Open In Colab\"/></a>"
      ]
    },
    {
      "cell_type": "markdown",
      "source": [
        "Conditional Statement"
      ],
      "metadata": {
        "id": "Z7yG90rTDyaE"
      }
    },
    {
      "cell_type": "code",
      "source": [],
      "metadata": {
        "id": "1PlSRt9lExac"
      },
      "execution_count": null,
      "outputs": []
    },
    {
      "cell_type": "code",
      "execution_count": 1,
      "metadata": {
        "colab": {
          "base_uri": "https://localhost:8080/"
        },
        "id": "e5KAKUJADt8l",
        "outputId": "e98f3faa-3c5f-4df9-d01a-b6f23917e467"
      },
      "outputs": [
        {
          "output_type": "stream",
          "name": "stdout",
          "text": [
            "five is greater than 2\n"
          ]
        }
      ],
      "source": [
        "#If Statement\n",
        "if 5> 2:\n",
        "  print(\"five is greater than 2\")"
      ]
    },
    {
      "cell_type": "code",
      "source": [
        "x = input()\n",
        "y = input()\n",
        "\n",
        "if x>y:\n",
        "  print(x +\" is greater than \"+ y)"
      ],
      "metadata": {
        "colab": {
          "base_uri": "https://localhost:8080/"
        },
        "id": "-uj5Y--kGCf0",
        "outputId": "cc434634-fc4a-416d-97c0-003271215955"
      },
      "execution_count": 5,
      "outputs": [
        {
          "output_type": "stream",
          "name": "stdout",
          "text": [
            "5\n",
            "4\n",
            "5 is greater than 4\n"
          ]
        }
      ]
    },
    {
      "cell_type": "code",
      "source": [
        "#Elif statement\n",
        "\n",
        "a = 100\n",
        "b = 100\n",
        "\n",
        "if a>b:\n",
        "  print(\"a is greater than b\")\n",
        "elif b>a:\n",
        "  print(\"b is greater than a\")"
      ],
      "metadata": {
        "id": "NxENvpSWHZMk"
      },
      "execution_count": 8,
      "outputs": []
    },
    {
      "cell_type": "code",
      "source": [
        "#Else Statement\n",
        "\n",
        "if a>b:\n",
        "  print(\"a is greater than b\")\n",
        "elif b>a:\n",
        "  print(\"b is greater than a\")\n",
        "else:\n",
        "  print(\"a and b are equal\")"
      ],
      "metadata": {
        "colab": {
          "base_uri": "https://localhost:8080/"
        },
        "id": "vVG9iTeCH24T",
        "outputId": "1859ee83-cd55-4f92-a5aa-71bbcffb70ed"
      },
      "execution_count": 9,
      "outputs": [
        {
          "output_type": "stream",
          "name": "stdout",
          "text": [
            "a and b are equal\n"
          ]
        }
      ]
    },
    {
      "cell_type": "code",
      "source": [
        "#Nested IF\n",
        "\n",
        "x = int(input())\n",
        "\n",
        "if x>10:\n",
        "  print(\"above 10\")\n",
        "  if x>20:\n",
        "   print(\"and also above 20\")\n",
        "   if x>30:\n",
        "    print(\"and also above 30\")\n",
        "    if x>40:\n",
        "      print(\"and also above 40\")\n",
        "    else:\n",
        "     print(\"not above 40\")\n",
        "  else:\n",
        "   print(\"not above 20\")\n",
        "else:\n",
        "  print(\"not above 10\")\n"
      ],
      "metadata": {
        "colab": {
          "base_uri": "https://localhost:8080/"
        },
        "id": "FH6okItYJLlM",
        "outputId": "d485b40e-5d0f-4ff4-ff74-ddf47bcdc7c2"
      },
      "execution_count": 22,
      "outputs": [
        {
          "output_type": "stream",
          "name": "stdout",
          "text": [
            "19\n",
            "above 10\n",
            "not above 20\n"
          ]
        }
      ]
    },
    {
      "cell_type": "markdown",
      "source": [
        "Example 1"
      ],
      "metadata": {
        "id": "8bd_HMCTMlNs"
      }
    },
    {
      "cell_type": "code",
      "source": [
        "print (\"Please Enter Your Age: \")\n",
        "x = int(input())\n",
        "\n",
        "if x<18:\n",
        "  print(\"You are NOT QUALIFIED to vote\")\n",
        "else:\n",
        "  print(\"You are QUALIFIED to vote\")"
      ],
      "metadata": {
        "colab": {
          "base_uri": "https://localhost:8080/"
        },
        "id": "t5NqvP3wMh08",
        "outputId": "7f42ffbe-9252-4a70-8cc1-011c25cb7a65"
      },
      "execution_count": 24,
      "outputs": [
        {
          "output_type": "stream",
          "name": "stdout",
          "text": [
            "Please Enter Your Age: \n",
            "89\n",
            "You are QUALIFIED to vote\n"
          ]
        }
      ]
    },
    {
      "cell_type": "markdown",
      "source": [
        "Example 2"
      ],
      "metadata": {
        "id": "bzdYKXrgMnG1"
      }
    },
    {
      "cell_type": "code",
      "source": [
        "print(\"Enter a Number:\")\n",
        "x = int(input())\n",
        "\n",
        "if x>0:\n",
        "  print(\"The number is POSITIVE\")\n",
        "elif x<0:\n",
        "  print(\"The number is NEGATIVE\")\n",
        "else:\n",
        "  print(\"The number is ZERO\")"
      ],
      "metadata": {
        "colab": {
          "base_uri": "https://localhost:8080/"
        },
        "id": "xEdcwwspMmqd",
        "outputId": "afc6717d-02af-4277-c1a6-956debf0d698"
      },
      "execution_count": 27,
      "outputs": [
        {
          "output_type": "stream",
          "name": "stdout",
          "text": [
            "Enter a Number:\n",
            "-83943\n",
            "The number is NEGATIVE\n"
          ]
        }
      ]
    },
    {
      "cell_type": "markdown",
      "source": [
        "Example 3"
      ],
      "metadata": {
        "id": "hnHu_8ErMo9k"
      }
    },
    {
      "cell_type": "code",
      "source": [
        "print(\"Enter Your Grade:\")\n",
        "x = float(input())\n",
        "\n",
        "if x>=70:\n",
        "  print(\"PASSED\")\n",
        "elif x<=69 and x>=65:\n",
        "  print(\"REMEDIAL\")\n",
        "elif x<65:\n",
        "  if x>=0:\n",
        "    print(\"FAILED\")\n",
        "  else:\n",
        "    print(\"NOT ACCEPTED\")"
      ],
      "metadata": {
        "colab": {
          "base_uri": "https://localhost:8080/"
        },
        "id": "6Nm7iCd_Mp9c",
        "outputId": "d746668b-48e5-444e-b273-74b0723b1773"
      },
      "execution_count": 58,
      "outputs": [
        {
          "output_type": "stream",
          "name": "stdout",
          "text": [
            "Enter Your Grade:\n",
            "0\n",
            "FAILED\n"
          ]
        }
      ]
    }
  ]
}