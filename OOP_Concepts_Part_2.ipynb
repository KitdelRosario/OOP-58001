{
  "nbformat": 4,
  "nbformat_minor": 0,
  "metadata": {
    "colab": {
      "provenance": [],
      "authorship_tag": "ABX9TyNHuupLc6j0W7sgbaJLMPXI",
      "include_colab_link": true
    },
    "kernelspec": {
      "name": "python3",
      "display_name": "Python 3"
    },
    "language_info": {
      "name": "python"
    }
  },
  "cells": [
    {
      "cell_type": "markdown",
      "metadata": {
        "id": "view-in-github",
        "colab_type": "text"
      },
      "source": [
        "<a href=\"https://colab.research.google.com/github/KitdelRosario/OOP-58001/blob/main/OOP_Concepts_Part_2.ipynb\" target=\"_parent\"><img src=\"https://colab.research.google.com/assets/colab-badge.svg\" alt=\"Open In Colab\"/></a>"
      ]
    },
    {
      "cell_type": "code",
      "execution_count": 3,
      "metadata": {
        "colab": {
          "base_uri": "https://localhost:8080/"
        },
        "id": "La7ED9M1TSnU",
        "outputId": "30f855ba-9a5c-40f6-d484-dcc63e84fb30"
      },
      "outputs": [
        {
          "output_type": "stream",
          "name": "stdout",
          "text": [
            "Griffon Vulture flies above clouds\n",
            "Common Crane flies above clouds\n",
            "Emu is the national bird of the Philippines\n"
          ]
        }
      ],
      "source": [
        "#Class with mutliple objects\n",
        "\n",
        "class Birds:\n",
        "  def __init__(self,bird_name):\n",
        "    self.bird_name = bird_name\n",
        "  def flying_birds(self):\n",
        "    print(f\"{self.bird_name} flies above clouds\")\n",
        "  def non_flying_birds(self):\n",
        "    print(f\"{self.bird_name} is the national bird of the Philippines\")\n",
        "\n",
        "vulture = Birds(\"Griffon Vulture\")\n",
        "crane = Birds(\"Common Crane\")\n",
        "emu = Birds(\"Emu\")\n",
        "\n",
        "vulture.flying_birds()\n",
        "crane.flying_birds()\n",
        "emu.non_flying_birds()"
      ]
    },
    {
      "cell_type": "code",
      "source": [
        "#Encapsulation\n",
        "class foo:\n",
        "  def __init__(self,a,b):\n",
        "    self.a = a\n",
        "    self.b = b\n",
        "  def add(self):\n",
        "    return self.a +self.b\n",
        "\n",
        "foo_object = foo(3,4)\n",
        "foo_object.add()"
      ],
      "metadata": {
        "colab": {
          "base_uri": "https://localhost:8080/"
        },
        "id": "CyLnKMGXZBdB",
        "outputId": "ba9d5875-70f0-4898-f316-a7341b6f0686"
      },
      "execution_count": 4,
      "outputs": [
        {
          "output_type": "execute_result",
          "data": {
            "text/plain": [
              "7"
            ]
          },
          "metadata": {},
          "execution_count": 4
        }
      ]
    },
    {
      "cell_type": "code",
      "source": [
        "#Encapsulation\n",
        "#mangling using double underscore\n",
        "class foo:\n",
        "  def __init__(self,a,b):\n",
        "    self.__a = a\n",
        "    self.__b = b\n",
        "  def add(self):\n",
        "    return self.__a +self.__b\n",
        "\n",
        "foo_object = foo(3,4)\n",
        "foo_object.add()\n",
        "foo_object.a = 5\n",
        "foo_object.add()"
      ],
      "metadata": {
        "colab": {
          "base_uri": "https://localhost:8080/"
        },
        "id": "fK3V_gQyaq9Y",
        "outputId": "688f79de-7cd9-4e4b-e6cc-4a2bc562d5f4"
      },
      "execution_count": 11,
      "outputs": [
        {
          "output_type": "execute_result",
          "data": {
            "text/plain": [
              "7"
            ]
          },
          "metadata": {},
          "execution_count": 11
        }
      ]
    },
    {
      "cell_type": "code",
      "source": [
        "class Counter:\n",
        "  def __init__(self):\n",
        "    self.current = 0\n",
        "\n",
        "  def increment(self):\n",
        "    self.current += 1\n",
        "\n",
        "  def value(self):\n",
        "    return self.current\n",
        "\n",
        "  def reset(self):\n",
        "    self.current = 0\n",
        "\n"
      ],
      "metadata": {
        "id": "DbimVwcnb-cx"
      },
      "execution_count": 12,
      "outputs": []
    },
    {
      "cell_type": "code",
      "source": [
        "#Inheritance\n",
        "\n",
        "class Person:\n",
        "  def __init__(self,name,birthdate):\n",
        "    self.name = name\n",
        "    self.birthdate = birthdate\n",
        "\n",
        "  def display(self):\n",
        "    print(f\"My name is\",self.name)\n",
        "    print(f\"My birthdate is\",self.birthdate)\n",
        "\n",
        "class Student(Person):\n",
        "  pass\n",
        "\n",
        "class Teacher(Person):\n",
        "  pass\n",
        "\n",
        "student = Student(\"Kit\",\"May 11 2003\")\n",
        "student.display()\n",
        "teacher = Teacher(\"Ana\",\"Feb 23 1978\")\n",
        "teacher.display()"
      ],
      "metadata": {
        "colab": {
          "base_uri": "https://localhost:8080/"
        },
        "id": "gGHllIVyeuMo",
        "outputId": "db9b79b0-75d2-44f1-c15c-14b4e436d120"
      },
      "execution_count": 17,
      "outputs": [
        {
          "output_type": "stream",
          "name": "stdout",
          "text": [
            "My name is Kit\n",
            "My birthdate is May 11 2003\n",
            "My name is Ana\n",
            "My birthdate is Feb 23 1978\n"
          ]
        }
      ]
    },
    {
      "cell_type": "code",
      "source": [
        "#create class name Shapes  (5 shapes)\n",
        "#attributes sides\n",
        "#create a function/method that displays the number of sides of each shape\n",
        "#apply inheritance and encapsulation\n",
        "class Shapes:\n",
        "  def __init__(self,name,side):\n",
        "    self.__name = name\n",
        "    self.__side = side\n",
        "\n",
        "  def display(self):\n",
        "    print(f\"Name of Shape: {self.__name}\")\n",
        "    print(f\"# of Sides: {self.__side}\")\n",
        "\n",
        "class Quadrilateral(Shapes):\n",
        "  pass\n",
        "\n",
        "class Triangle(Shapes):\n",
        "  pass\n",
        "\n",
        "class Pentagon(Shapes):\n",
        "  pass\n",
        "\n",
        "class Nonagon(Shapes):\n",
        "  pass\n",
        "\n",
        "class Octagon(Shapes):\n",
        "  pass\n",
        "\n",
        "quadrilateral = Quadrilateral(\"Quadrilateral\",\"4\")\n",
        "quadrilateral.display()\n",
        "\n",
        "triangle = Triangle(\"Triangle\",\"3\")\n",
        "triangle.display()\n",
        "\n",
        "pentagon = Pentagon(\"Pentagon\",\"5\")\n",
        "pentagon.display()\n",
        "\n",
        "nonagon = Nonagon(\"Nonagon\",\"9\")\n",
        "nonagon.display()\n",
        "\n",
        "octagon = Octagon(\"Octagon\",\"8\")\n",
        "octagon.display()\n",
        "\n",
        "octagon.name = \"hexagon\"\n",
        "octagon.side = \"6\"\n",
        "octagon.display()\n"
      ],
      "metadata": {
        "colab": {
          "base_uri": "https://localhost:8080/"
        },
        "id": "cq2kYyO1gibI",
        "outputId": "8db6c168-9f63-4e1e-c096-9451f9e018f9"
      },
      "execution_count": 32,
      "outputs": [
        {
          "output_type": "stream",
          "name": "stdout",
          "text": [
            "Name of Shape: Quadrilateral\n",
            "# of Sides: 4\n",
            "Name of Shape: Triangle\n",
            "# of Sides: 3\n",
            "Name of Shape: Pentagon\n",
            "# of Sides: 5\n",
            "Name of Shape: Nonagon\n",
            "# of Sides: 9\n",
            "Name of Shape: Octagon\n",
            "# of Sides: 8\n",
            "Name of Shape: Octagon\n",
            "# of Sides: 8\n"
          ]
        }
      ]
    }
  ]
}