{
  "nbformat": 4,
  "nbformat_minor": 0,
  "metadata": {
    "colab": {
      "provenance": [],
      "authorship_tag": "ABX9TyN8MAfLZnF7sBzzwwdT92z5",
      "include_colab_link": true
    },
    "kernelspec": {
      "name": "python3",
      "display_name": "Python 3"
    },
    "language_info": {
      "name": "python"
    }
  },
  "cells": [
    {
      "cell_type": "markdown",
      "metadata": {
        "id": "view-in-github",
        "colab_type": "text"
      },
      "source": [
        "<a href=\"https://colab.research.google.com/github/KitdelRosario/OOP-58001/blob/main/Lab_Activity_1.ipynb\" target=\"_parent\"><img src=\"https://colab.research.google.com/assets/colab-badge.svg\" alt=\"Open In Colab\"/></a>"
      ]
    },
    {
      "cell_type": "code",
      "execution_count": 19,
      "metadata": {
        "colab": {
          "base_uri": "https://localhost:8080/"
        },
        "id": "erkBaJXwLH4k",
        "outputId": "5b5f5679-5fa9-47c9-f4df-17f8fac67403"
      },
      "outputs": [
        {
          "output_type": "stream",
          "name": "stdout",
          "text": [
            "sum =  210\n",
            "Average =  10.5\n"
          ]
        }
      ],
      "source": [
        "n = 20\n",
        "total_numbers = n\n",
        "sum = 0\n",
        "average = 0\n",
        "\n",
        "while n>=0:\n",
        "  sum+=n\n",
        "  n-=1\n",
        "else:\n",
        "  print(\"sum = \" ,sum)\n",
        "  average = sum/total_numbers\n",
        "  print(\"Average = \" ,average)\n",
        "\n",
        "\n"
      ]
    },
    {
      "cell_type": "code",
      "source": [],
      "metadata": {
        "id": "OK_pfXaFN_0o"
      },
      "execution_count": null,
      "outputs": []
    }
  ]
}